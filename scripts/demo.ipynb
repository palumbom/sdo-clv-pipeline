{
 "cells": [
  {
   "cell_type": "code",
   "execution_count": 1,
   "id": "a5a1a11f",
   "metadata": {},
   "outputs": [
    {
     "ename": "ModuleNotFoundError",
     "evalue": "No module named 'sdo_clv_pipeline'",
     "output_type": "error",
     "traceback": [
      "\u001b[31m---------------------------------------------------------------------------\u001b[39m",
      "\u001b[31mModuleNotFoundError\u001b[39m                       Traceback (most recent call last)",
      "\u001b[36mCell\u001b[39m\u001b[36m \u001b[39m\u001b[32mIn[1]\u001b[39m\u001b[32m, line 8\u001b[39m\n\u001b[32m      5\u001b[39m \u001b[38;5;28;01mfrom\u001b[39;00m\u001b[38;5;250m \u001b[39m\u001b[34;01mos\u001b[39;00m\u001b[34;01m.\u001b[39;00m\u001b[34;01mpath\u001b[39;00m\u001b[38;5;250m \u001b[39m\u001b[38;5;28;01mimport\u001b[39;00m exists, split, isdir, getsize\n\u001b[32m      7\u001b[39m \u001b[38;5;66;03m# internal package imports\u001b[39;00m\n\u001b[32m----> \u001b[39m\u001b[32m8\u001b[39m \u001b[38;5;28;01mfrom\u001b[39;00m\u001b[38;5;250m \u001b[39m\u001b[34;01msdo_clv_pipeline\u001b[39;00m\u001b[34;01m.\u001b[39;00m\u001b[34;01mpaths\u001b[39;00m\u001b[38;5;250m \u001b[39m\u001b[38;5;28;01mimport\u001b[39;00m root\n\u001b[32m      9\u001b[39m \u001b[38;5;28;01mfrom\u001b[39;00m\u001b[38;5;250m \u001b[39m\u001b[34;01msdo_clv_pipeline\u001b[39;00m\u001b[34;01m.\u001b[39;00m\u001b[34;01msdo_io\u001b[39;00m\u001b[38;5;250m \u001b[39m\u001b[38;5;28;01mimport\u001b[39;00m *\n\u001b[32m     10\u001b[39m \u001b[38;5;28;01mfrom\u001b[39;00m\u001b[38;5;250m \u001b[39m\u001b[34;01msdo_clv_pipeline\u001b[39;00m\u001b[34;01m.\u001b[39;00m\u001b[34;01msdo_process\u001b[39;00m\u001b[38;5;250m \u001b[39m\u001b[38;5;28;01mimport\u001b[39;00m *\n",
      "\u001b[31mModuleNotFoundError\u001b[39m: No module named 'sdo_clv_pipeline'"
     ]
    }
   ],
   "source": [
    "# external package imports\n",
    "import numpy as np\n",
    "import pandas as pd\n",
    "import os, pdb, glob, time, argparse\n",
    "from os.path import exists, split, isdir, getsize\n",
    "\n",
    "# internal package imports\n",
    "from sdo_clv_pipeline.paths import root\n",
    "from sdo_clv_pipeline.sdo_io import *\n",
    "from sdo_clv_pipeline.sdo_process import *"
   ]
  },
  {
   "cell_type": "markdown",
   "id": "66f47a1d",
   "metadata": {},
   "source": [
    "## Preliminaries\n",
    "First we need to find our files and then read them in. They are plain FITS files that can be read with astropy or sunpy, but I wrote some extra code to help parse out the data for our purposes. If you're curious, you can look in ```sdo_image.py```"
   ]
  },
  {
   "cell_type": "code",
   "execution_count": null,
   "id": "a0a10eab",
   "metadata": {},
   "outputs": [],
   "source": [
    "# define the paths where files live\n",
    "con_file = \"/Users/mpalumbo/Downloads/hmi.Ic_720s.20140107_000000_TAI.continuum.fits\"\n",
    "mag_file = \"/Users/mpalumbo/Downloads/hmi.M_720s.20140107_000000_TAI.magnetogram.fits\"\n",
    "dop_file = \"/Users/mpalumbo/Downloads/hmi.V_720s.20140107_000000_TAI.Dopplergram.fits\"\n",
    "aia_file = \"/Users/mpalumbo/Downloads/aia_lev1_1700a_2014_01_07t00_00_30_71z_image_lev1.fits\""
   ]
  },
  {
   "cell_type": "code",
   "execution_count": null,
   "id": "b3802f56",
   "metadata": {},
   "outputs": [],
   "source": [
    "# create the SDOImage object instances\n",
    "con = SDOImage(con_file)\n",
    "mag = SDOImage(mag_file)\n",
    "dop = SDOImage(dop_file)\n",
    "aia = SDOImage(aia_file)"
   ]
  },
  {
   "cell_type": "markdown",
   "id": "4beed081",
   "metadata": {},
   "source": [
    "## Initial Processing\n",
    "Next we need figure out the coordinates of our images and \"correct\" for some physical effects. Initially our images are all in pixel coordinates, but the FITS header has the information we need to transform from pixel coordinates to a heliophysical coordinate systems. If you want to go down the rabit whole of coordinate systems, you can look here: https://www.aanda.org/articles/aa/pdf/2006/14/aa4262-05.pdf"
   ]
  },
  {
   "cell_type": "code",
   "execution_count": null,
   "id": "8ab7c160",
   "metadata": {},
   "outputs": [],
   "source": [
    "# do the coordinate transforms, etc.\n",
    "dop.calc_geometry()\n",
    "con.inherit_geometry(dop)\n",
    "mag.inherit_geometry(dop)"
   ]
  },
  {
   "cell_type": "code",
   "execution_count": null,
   "id": "232a3297",
   "metadata": {},
   "outputs": [],
   "source": [
    "# calculate the limb darkening correction\n",
    "con.calc_limb_darkening()\n",
    "aia.calc_limb_darkening()"
   ]
  },
  {
   "cell_type": "code",
   "execution_count": null,
   "id": "94289d71",
   "metadata": {},
   "outputs": [],
   "source": [
    "# correct magnetogram for foreshortening\n",
    "mag.correct_magnetogram()"
   ]
  },
  {
   "cell_type": "code",
   "execution_count": null,
   "id": "293f143c",
   "metadata": {},
   "outputs": [],
   "source": [
    "# calculate differential rot., meridional circ., obs. vel, grav. redshift, cbs\n",
    "# dop.correct_dopplergram(fit_cbs=False)"
   ]
  },
  {
   "cell_type": "code",
   "execution_count": null,
   "id": "ef328596",
   "metadata": {},
   "outputs": [],
   "source": [
    "# set values to nan for mu less than mu_thresh\n",
    "mu_thresh = 0.1\n",
    "con.mask_low_mu(mu_thresh)\n",
    "dop.mask_low_mu(mu_thresh)\n",
    "mag.mask_low_mu(mu_thresh)\n",
    "aia.mask_low_mu(mu_thresh)"
   ]
  },
  {
   "cell_type": "markdown",
   "id": "d5874afa",
   "metadata": {},
   "source": [
    "## Identifying Pixels\n",
    "The ```SunMask``` constructor performs the task of indentifying pixels. You'll be playing with/augmenting the code in this function! "
   ]
  },
  {
   "cell_type": "code",
   "execution_count": null,
   "id": "e80fe2df",
   "metadata": {},
   "outputs": [],
   "source": [
    "mask = SunMask(con, mag, dop, aia)\n",
    "mask.mask_low_mu(mu_thresh)"
   ]
  },
  {
   "cell_type": "markdown",
   "id": "65065bcc",
   "metadata": {},
   "source": [
    "## Plotting\n",
    "I have some plotting code that you can use to visualize the images we processed"
   ]
  },
  {
   "cell_type": "code",
   "execution_count": null,
   "id": "61df8008",
   "metadata": {},
   "outputs": [
    {
     "ename": "",
     "evalue": "",
     "output_type": "error",
     "traceback": [
      "\u001b[1;31mRunning cells with '.venv (Python 3.11.6)' requires the ipykernel package.\n",
      "\u001b[1;31mInstall 'ipykernel' into the Python environment. \n",
      "\u001b[1;31mCommand: '/Users/mpalumbo/work/sdo-clv-pipeline/.venv/bin/python -m pip install ipykernel -U --force-reinstall'"
     ]
    }
   ],
   "source": [
    "plot_image(con)"
   ]
  },
  {
   "cell_type": "code",
   "execution_count": null,
   "id": "1abfa406",
   "metadata": {},
   "outputs": [],
   "source": []
  }
 ],
 "metadata": {
  "kernelspec": {
   "display_name": ".venv",
   "language": "python",
   "name": "python3"
  },
  "language_info": {
   "codemirror_mode": {
    "name": "ipython",
    "version": 3
   },
   "file_extension": ".py",
   "mimetype": "text/x-python",
   "name": "python",
   "nbconvert_exporter": "python",
   "pygments_lexer": "ipython3",
   "version": "3.11.6"
  }
 },
 "nbformat": 4,
 "nbformat_minor": 5
}
