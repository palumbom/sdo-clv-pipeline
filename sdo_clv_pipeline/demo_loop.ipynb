{
 "cells": [
  {
   "cell_type": "code",
   "execution_count": 2,
   "id": "23b91bd7",
   "metadata": {},
   "outputs": [
    {
     "name": "stderr",
     "output_type": "stream",
     "text": [
      "c:\\Users\\srugi\\Documents\\sdo-clv-pipeline\\.venv\\Lib\\site-packages\\tqdm\\auto.py:21: TqdmWarning: IProgress not found. Please update jupyter and ipywidgets. See https://ipywidgets.readthedocs.io/en/stable/user_install.html\n",
      "  from .autonotebook import tqdm as notebook_tqdm\n"
     ]
    }
   ],
   "source": [
    "# automatically reload edited source code\n",
    "%load_ext autoreload\n",
    "%autoreload 2\n",
    "\n",
    "# external package imports\n",
    "import numpy as np\n",
    "import pandas as pd\n",
    "import os, pdb, glob, time, argparse\n",
    "from os.path import exists, split, isdir, getsize\n",
    "from sdo_clv_pipeline.sdo_plot import *\n",
    "\n",
    "# internal package imports\n",
    "from sdo_clv_pipeline.paths import root\n",
    "from sdo_clv_pipeline.sdo_io import *\n",
    "from sdo_clv_pipeline.sdo_process import *\n",
    "from sdo_clv_pipeline.sdo_io import * "
   ]
  },
  {
   "cell_type": "code",
   "execution_count": 15,
   "id": "cb43573c",
   "metadata": {},
   "outputs": [
    {
     "name": "stdout",
     "output_type": "stream",
     "text": [
      "c:\\Users\\srugi\\Documents\\sdo-clv-pipeline\\data\n",
      "['c:\\\\Users\\\\srugi\\\\Documents\\\\sdo-clv-pipeline\\\\data\\\\hmi.ic_720s.20140101_000000_TAI.1.continuum.fits', 'c:\\\\Users\\\\srugi\\\\Documents\\\\sdo-clv-pipeline\\\\data\\\\hmi.ic_720s.20140101_040000_TAI.1.continuum.fits', 'c:\\\\Users\\\\srugi\\\\Documents\\\\sdo-clv-pipeline\\\\data\\\\hmi.ic_720s.20140101_080000_TAI.1.continuum.fits', 'c:\\\\Users\\\\srugi\\\\Documents\\\\sdo-clv-pipeline\\\\data\\\\hmi.ic_720s.20140101_120000_TAI.1.continuum.fits', 'c:\\\\Users\\\\srugi\\\\Documents\\\\sdo-clv-pipeline\\\\data\\\\hmi.ic_720s.20140101_160000_TAI.1.continuum.fits', 'c:\\\\Users\\\\srugi\\\\Documents\\\\sdo-clv-pipeline\\\\data\\\\hmi.ic_720s.20140101_200000_TAI.1.continuum.fits', 'c:\\\\Users\\\\srugi\\\\Documents\\\\sdo-clv-pipeline\\\\data\\\\hmi.ic_720s.20140102_000000_TAI.1.continuum.fits', 'c:\\\\Users\\\\srugi\\\\Documents\\\\sdo-clv-pipeline\\\\data\\\\hmi.ic_720s.20140102_040000_TAI.1.continuum.fits', 'c:\\\\Users\\\\srugi\\\\Documents\\\\sdo-clv-pipeline\\\\data\\\\hmi.ic_720s.20140102_080000_TAI.1.continuum.fits', 'c:\\\\Users\\\\srugi\\\\Documents\\\\sdo-clv-pipeline\\\\data\\\\hmi.ic_720s.20140102_120000_TAI.1.continuum.fits', 'c:\\\\Users\\\\srugi\\\\Documents\\\\sdo-clv-pipeline\\\\data\\\\hmi.ic_720s.20140102_160000_TAI.1.continuum.fits', 'c:\\\\Users\\\\srugi\\\\Documents\\\\sdo-clv-pipeline\\\\data\\\\hmi.ic_720s.20140102_200000_TAI.1.continuum.fits', 'c:\\\\Users\\\\srugi\\\\Documents\\\\sdo-clv-pipeline\\\\data\\\\hmi.ic_720s.20140103_000000_TAI.1.continuum.fits', 'c:\\\\Users\\\\srugi\\\\Documents\\\\sdo-clv-pipeline\\\\data\\\\hmi.Ic_720s.20140107_000000_TAI.continuum.fits']\n",
      "['c:\\\\Users\\\\srugi\\\\Documents\\\\sdo-clv-pipeline\\\\data\\\\hmi.m_720s.20140101_000000_TAI.1.magnetogram.fits', 'c:\\\\Users\\\\srugi\\\\Documents\\\\sdo-clv-pipeline\\\\data\\\\hmi.m_720s.20140101_040000_TAI.1.magnetogram.fits', 'c:\\\\Users\\\\srugi\\\\Documents\\\\sdo-clv-pipeline\\\\data\\\\hmi.m_720s.20140101_080000_TAI.1.magnetogram.fits', 'c:\\\\Users\\\\srugi\\\\Documents\\\\sdo-clv-pipeline\\\\data\\\\hmi.m_720s.20140101_120000_TAI.1.magnetogram.fits', 'c:\\\\Users\\\\srugi\\\\Documents\\\\sdo-clv-pipeline\\\\data\\\\hmi.m_720s.20140101_160000_TAI.1.magnetogram.fits', 'c:\\\\Users\\\\srugi\\\\Documents\\\\sdo-clv-pipeline\\\\data\\\\hmi.m_720s.20140101_200000_TAI.1.magnetogram.fits', 'c:\\\\Users\\\\srugi\\\\Documents\\\\sdo-clv-pipeline\\\\data\\\\hmi.m_720s.20140102_000000_TAI.1.magnetogram.fits', 'c:\\\\Users\\\\srugi\\\\Documents\\\\sdo-clv-pipeline\\\\data\\\\hmi.m_720s.20140102_040000_TAI.1.magnetogram.fits', 'c:\\\\Users\\\\srugi\\\\Documents\\\\sdo-clv-pipeline\\\\data\\\\hmi.m_720s.20140102_080000_TAI.1.magnetogram.fits', 'c:\\\\Users\\\\srugi\\\\Documents\\\\sdo-clv-pipeline\\\\data\\\\hmi.m_720s.20140102_120000_TAI.1.magnetogram.fits', 'c:\\\\Users\\\\srugi\\\\Documents\\\\sdo-clv-pipeline\\\\data\\\\hmi.m_720s.20140102_160000_TAI.1.magnetogram.fits', 'c:\\\\Users\\\\srugi\\\\Documents\\\\sdo-clv-pipeline\\\\data\\\\hmi.m_720s.20140102_200000_TAI.1.magnetogram.fits', 'c:\\\\Users\\\\srugi\\\\Documents\\\\sdo-clv-pipeline\\\\data\\\\hmi.m_720s.20140103_000000_TAI.1.magnetogram.fits', 'c:\\\\Users\\\\srugi\\\\Documents\\\\sdo-clv-pipeline\\\\data\\\\hmi.M_720s.20140107_000000_TAI.magnetogram.fits']\n",
      "['c:\\\\Users\\\\srugi\\\\Documents\\\\sdo-clv-pipeline\\\\data\\\\hmi.v_720s.20140101_000000_TAI.1.Dopplergram.fits', 'c:\\\\Users\\\\srugi\\\\Documents\\\\sdo-clv-pipeline\\\\data\\\\hmi.v_720s.20140101_040000_TAI.1.Dopplergram.fits', 'c:\\\\Users\\\\srugi\\\\Documents\\\\sdo-clv-pipeline\\\\data\\\\hmi.v_720s.20140101_080000_TAI.1.Dopplergram.fits', 'c:\\\\Users\\\\srugi\\\\Documents\\\\sdo-clv-pipeline\\\\data\\\\hmi.v_720s.20140101_120000_TAI.1.Dopplergram.fits', 'c:\\\\Users\\\\srugi\\\\Documents\\\\sdo-clv-pipeline\\\\data\\\\hmi.v_720s.20140101_160000_TAI.1.Dopplergram.fits', 'c:\\\\Users\\\\srugi\\\\Documents\\\\sdo-clv-pipeline\\\\data\\\\hmi.v_720s.20140101_200000_TAI.1.Dopplergram.fits', 'c:\\\\Users\\\\srugi\\\\Documents\\\\sdo-clv-pipeline\\\\data\\\\hmi.v_720s.20140102_000000_TAI.1.Dopplergram.fits', 'c:\\\\Users\\\\srugi\\\\Documents\\\\sdo-clv-pipeline\\\\data\\\\hmi.v_720s.20140102_040000_TAI.1.Dopplergram.fits', 'c:\\\\Users\\\\srugi\\\\Documents\\\\sdo-clv-pipeline\\\\data\\\\hmi.v_720s.20140102_080000_TAI.1.Dopplergram.fits', 'c:\\\\Users\\\\srugi\\\\Documents\\\\sdo-clv-pipeline\\\\data\\\\hmi.v_720s.20140102_120000_TAI.1.Dopplergram.fits', 'c:\\\\Users\\\\srugi\\\\Documents\\\\sdo-clv-pipeline\\\\data\\\\hmi.v_720s.20140102_160000_TAI.1.Dopplergram.fits', 'c:\\\\Users\\\\srugi\\\\Documents\\\\sdo-clv-pipeline\\\\data\\\\hmi.v_720s.20140102_200000_TAI.1.Dopplergram.fits', 'c:\\\\Users\\\\srugi\\\\Documents\\\\sdo-clv-pipeline\\\\data\\\\hmi.v_720s.20140103_000000_TAI.1.Dopplergram.fits', 'c:\\\\Users\\\\srugi\\\\Documents\\\\sdo-clv-pipeline\\\\data\\\\hmi.V_720s.20140107_000000_TAI.Dopplergram.fits']\n",
      "['c:\\\\Users\\\\srugi\\\\Documents\\\\sdo-clv-pipeline\\\\data\\\\aia_lev1_1700a_2014_01_01t00_00_30_71z_image_lev1.fits', 'c:\\\\Users\\\\srugi\\\\Documents\\\\sdo-clv-pipeline\\\\data\\\\aia_lev1_1700a_2014_01_01t04_00_30_71z_image_lev1.fits', 'c:\\\\Users\\\\srugi\\\\Documents\\\\sdo-clv-pipeline\\\\data\\\\aia_lev1_1700a_2014_01_01t08_00_30_71z_image_lev1.fits', 'c:\\\\Users\\\\srugi\\\\Documents\\\\sdo-clv-pipeline\\\\data\\\\aia_lev1_1700a_2014_01_01t12_00_30_71z_image_lev1.fits', 'c:\\\\Users\\\\srugi\\\\Documents\\\\sdo-clv-pipeline\\\\data\\\\aia_lev1_1700a_2014_01_01t16_00_30_71z_image_lev1.fits', 'c:\\\\Users\\\\srugi\\\\Documents\\\\sdo-clv-pipeline\\\\data\\\\aia_lev1_1700a_2014_01_01t20_00_30_74z_image_lev1.fits', 'c:\\\\Users\\\\srugi\\\\Documents\\\\sdo-clv-pipeline\\\\data\\\\aia_lev1_1700a_2014_01_02t00_00_30_71z_image_lev1.fits', 'c:\\\\Users\\\\srugi\\\\Documents\\\\sdo-clv-pipeline\\\\data\\\\aia_lev1_1700a_2014_01_02t04_00_30_71z_image_lev1.fits', 'c:\\\\Users\\\\srugi\\\\Documents\\\\sdo-clv-pipeline\\\\data\\\\aia_lev1_1700a_2014_01_02t08_00_30_71z_image_lev1.fits', 'c:\\\\Users\\\\srugi\\\\Documents\\\\sdo-clv-pipeline\\\\data\\\\aia_lev1_1700a_2014_01_02t12_00_30_71z_image_lev1.fits', 'c:\\\\Users\\\\srugi\\\\Documents\\\\sdo-clv-pipeline\\\\data\\\\aia_lev1_1700a_2014_01_02t16_00_30_71z_image_lev1.fits', 'c:\\\\Users\\\\srugi\\\\Documents\\\\sdo-clv-pipeline\\\\data\\\\aia_lev1_1700a_2014_01_02t20_00_30_71z_image_lev1.fits', 'c:\\\\Users\\\\srugi\\\\Documents\\\\sdo-clv-pipeline\\\\data\\\\aia_lev1_1700a_2014_01_03t00_00_30_71z_image_lev1.fits', 'c:\\\\Users\\\\srugi\\\\Documents\\\\sdo-clv-pipeline\\\\data\\\\aia_lev1_1700a_2014_01_07t00_00_30_71z_image_lev1.fits']\n"
     ]
    }
   ],
   "source": [
    "# returns four sorted lists with the path to each of the file types\n",
    "data_dir = os.path.abspath(os.path.join(os.getcwd(), \"..\", \"data\"))\n",
    "con_files, mag_files, dop_files, aia_files = find_data(data_dir+\"\\\\\", \"2014\")\n",
    "print(data_dir)\n",
    "print(con_files)\n",
    "print(mag_files)\n",
    "print(dop_files)\n",
    "print(aia_files)"
   ]
  },
  {
   "cell_type": "code",
   "execution_count": 16,
   "id": "d46cbe05",
   "metadata": {},
   "outputs": [
    {
     "ename": "KeyboardInterrupt",
     "evalue": "",
     "output_type": "error",
     "traceback": [
      "\u001b[31m---------------------------------------------------------------------------\u001b[39m",
      "\u001b[31mKeyboardInterrupt\u001b[39m                         Traceback (most recent call last)",
      "\u001b[36mCell\u001b[39m\u001b[36m \u001b[39m\u001b[32mIn[16]\u001b[39m\u001b[32m, line 15\u001b[39m\n\u001b[32m     12\u001b[39m aia = SDOImage(aia_file)     \u001b[38;5;66;03m# AIA 1700 continuum filtergram, Relative 1700 Angstrom Continuum Intensity\u001b[39;00m\n\u001b[32m     14\u001b[39m \u001b[38;5;66;03m# do the coordinate transforms, etc.\u001b[39;00m\n\u001b[32m---> \u001b[39m\u001b[32m15\u001b[39m \u001b[43mdop\u001b[49m\u001b[43m.\u001b[49m\u001b[43mcalc_geometry\u001b[49m\u001b[43m(\u001b[49m\u001b[43m)\u001b[49m\n\u001b[32m     16\u001b[39m con.inherit_geometry(dop)\n\u001b[32m     17\u001b[39m mag.inherit_geometry(dop)\n",
      "\u001b[36mFile \u001b[39m\u001b[32m~\\Documents\\sdo-clv-pipeline\\sdo_clv_pipeline\\sdo_image.py:105\u001b[39m, in \u001b[36mSDOImage.calc_geometry\u001b[39m\u001b[34m(self)\u001b[39m\n\u001b[32m    102\u001b[39m \u001b[38;5;28mself\u001b[39m.rr = np.sqrt(hpc.Tx**\u001b[32m2\u001b[39m + hpc.Ty**\u001b[32m2\u001b[39m) / (\u001b[38;5;28mself\u001b[39m.rsun_obs * u.arcsec)\n\u001b[32m    104\u001b[39m \u001b[38;5;66;03m# heliocgraphic latitude and longitude\u001b[39;00m\n\u001b[32m--> \u001b[39m\u001b[32m105\u001b[39m \u001b[38;5;28mself\u001b[39m.lat = \u001b[43mhgs\u001b[49m\u001b[43m.\u001b[49m\u001b[43mlat\u001b[49m + \u001b[32m90\u001b[39m * u.deg\n\u001b[32m    106\u001b[39m \u001b[38;5;28mself\u001b[39m.lon = hgs.lon\n\u001b[32m    108\u001b[39m \u001b[38;5;66;03m# calculate the pixel areas\u001b[39;00m\n",
      "\u001b[36mFile \u001b[39m\u001b[32mc:\\Users\\srugi\\Documents\\sdo-clv-pipeline\\.venv\\Lib\\site-packages\\astropy\\coordinates\\sky_coordinate.py:741\u001b[39m, in \u001b[36mSkyCoord.__getattr__\u001b[39m\u001b[34m(self, attr)\u001b[39m\n\u001b[32m    737\u001b[39m         \u001b[38;5;28;01mreturn\u001b[39;00m \u001b[38;5;28mgetattr\u001b[39m(\u001b[38;5;28mself\u001b[39m, \u001b[33m\"\u001b[39m\u001b[33m_\u001b[39m\u001b[33m\"\u001b[39m + attr, \u001b[38;5;28;01mNone\u001b[39;00m)\n\u001b[32m    739\u001b[39m \u001b[38;5;66;03m# Some attributes might not fall in the above category but still\u001b[39;00m\n\u001b[32m    740\u001b[39m \u001b[38;5;66;03m# are available through self._sky_coord_frame.\u001b[39;00m\n\u001b[32m--> \u001b[39m\u001b[32m741\u001b[39m \u001b[38;5;28;01mif\u001b[39;00m \u001b[38;5;129;01mnot\u001b[39;00m attr.startswith(\u001b[33m\"\u001b[39m\u001b[33m_\u001b[39m\u001b[33m\"\u001b[39m) \u001b[38;5;129;01mand\u001b[39;00m \u001b[38;5;28mhasattr\u001b[39m(\u001b[38;5;28mself\u001b[39m._sky_coord_frame, attr):\n\u001b[32m    742\u001b[39m     \u001b[38;5;28;01mreturn\u001b[39;00m \u001b[38;5;28mgetattr\u001b[39m(\u001b[38;5;28mself\u001b[39m._sky_coord_frame, attr)\n\u001b[32m    744\u001b[39m \u001b[38;5;66;03m# Try to interpret as a new frame for transforming.\u001b[39;00m\n",
      "\u001b[36mFile \u001b[39m\u001b[32mc:\\Users\\srugi\\Documents\\sdo-clv-pipeline\\.venv\\Lib\\site-packages\\astropy\\coordinates\\baseframe.py:1904\u001b[39m, in \u001b[36mBaseCoordinateFrame.__getattr__\u001b[39m\u001b[34m(self, attr)\u001b[39m\n\u001b[32m   1899\u001b[39m \u001b[38;5;28;01mif\u001b[39;00m \u001b[38;5;28mself\u001b[39m._data \u001b[38;5;129;01mis\u001b[39;00m \u001b[38;5;28;01mNone\u001b[39;00m:\n\u001b[32m   1900\u001b[39m     \u001b[38;5;66;03m# this raises the \"no data\" error by design - doing it this way means we\u001b[39;00m\n\u001b[32m   1901\u001b[39m     \u001b[38;5;66;03m# don't have to replicate the error message here.\u001b[39;00m\n\u001b[32m   1902\u001b[39m     \u001b[38;5;28mself\u001b[39m.data  \u001b[38;5;66;03m# noqa: B018\u001b[39;00m\n\u001b[32m-> \u001b[39m\u001b[32m1904\u001b[39m rep = \u001b[38;5;28;43mself\u001b[39;49m\u001b[43m.\u001b[49m\u001b[43mrepresent_as\u001b[49m\u001b[43m(\u001b[49m\u001b[38;5;28;43mself\u001b[39;49m\u001b[43m.\u001b[49m\u001b[43mrepresentation_type\u001b[49m\u001b[43m,\u001b[49m\u001b[43m \u001b[49m\u001b[43min_frame_units\u001b[49m\u001b[43m=\u001b[49m\u001b[38;5;28;43;01mTrue\u001b[39;49;00m\u001b[43m)\u001b[49m\n\u001b[32m   1905\u001b[39m val = \u001b[38;5;28mgetattr\u001b[39m(rep, repr_names[attr])\n\u001b[32m   1906\u001b[39m \u001b[38;5;28;01mreturn\u001b[39;00m val\n",
      "\u001b[36mFile \u001b[39m\u001b[32mc:\\Users\\srugi\\Documents\\sdo-clv-pipeline\\.venv\\Lib\\site-packages\\sunpy\\coordinates\\frames.py:159\u001b[39m, in \u001b[36mSunPyBaseCoordinateFrame.represent_as\u001b[39m\u001b[34m(self, base, s, in_frame_units)\u001b[39m\n\u001b[32m    158\u001b[39m \u001b[38;5;28;01mdef\u001b[39;00m\u001b[38;5;250m \u001b[39m\u001b[34mrepresent_as\u001b[39m(\u001b[38;5;28mself\u001b[39m, base, s=\u001b[33m'\u001b[39m\u001b[33mbase\u001b[39m\u001b[33m'\u001b[39m, in_frame_units=\u001b[38;5;28;01mFalse\u001b[39;00m):\n\u001b[32m--> \u001b[39m\u001b[32m159\u001b[39m     data = \u001b[38;5;28;43msuper\u001b[39;49m\u001b[43m(\u001b[49m\u001b[43m)\u001b[49m\u001b[43m.\u001b[49m\u001b[43mrepresent_as\u001b[49m\u001b[43m(\u001b[49m\u001b[43mbase\u001b[49m\u001b[43m,\u001b[49m\u001b[43m \u001b[49m\u001b[43ms\u001b[49m\u001b[43m,\u001b[49m\u001b[43m \u001b[49m\u001b[43min_frame_units\u001b[49m\u001b[43m=\u001b[49m\u001b[43min_frame_units\u001b[49m\u001b[43m)\u001b[49m\n\u001b[32m    161\u001b[39m     \u001b[38;5;66;03m# If a frame wrap angle is set, use that wrap angle for any spherical representations.\u001b[39;00m\n\u001b[32m    162\u001b[39m     \u001b[38;5;28;01mif\u001b[39;00m \u001b[38;5;28mself\u001b[39m._wrap_angle \u001b[38;5;129;01mis\u001b[39;00m \u001b[38;5;129;01mnot\u001b[39;00m \u001b[38;5;28;01mNone\u001b[39;00m \u001b[38;5;129;01mand\u001b[39;00m \\\n\u001b[32m    163\u001b[39m        \u001b[38;5;28misinstance\u001b[39m(data, UnitSphericalRepresentation | SphericalRepresentation):\n",
      "\u001b[36mFile \u001b[39m\u001b[32mc:\\Users\\srugi\\Documents\\sdo-clv-pipeline\\.venv\\Lib\\site-packages\\astropy\\coordinates\\baseframe.py:1386\u001b[39m, in \u001b[36mBaseCoordinateFrame.represent_as\u001b[39m\u001b[34m(self, base, s, in_frame_units)\u001b[39m\n\u001b[32m   1384\u001b[39m     \u001b[38;5;28;01mfor\u001b[39;00m comp, new_attr_unit \u001b[38;5;129;01min\u001b[39;00m \u001b[38;5;28mzip\u001b[39m(data.components, new_attrs[\u001b[33m\"\u001b[39m\u001b[33munits\u001b[39m\u001b[33m\"\u001b[39m]):\n\u001b[32m   1385\u001b[39m         \u001b[38;5;28;01mif\u001b[39;00m new_attr_unit:\n\u001b[32m-> \u001b[39m\u001b[32m1386\u001b[39m             datakwargs[comp] = \u001b[43mdatakwargs\u001b[49m\u001b[43m[\u001b[49m\u001b[43mcomp\u001b[49m\u001b[43m]\u001b[49m\u001b[43m.\u001b[49m\u001b[43mto\u001b[49m\u001b[43m(\u001b[49m\u001b[43mnew_attr_unit\u001b[49m\u001b[43m)\u001b[49m\n\u001b[32m   1387\u001b[39m     data = data.\u001b[34m__class__\u001b[39m(copy=\u001b[38;5;28;01mFalse\u001b[39;00m, **datakwargs)\n\u001b[32m   1389\u001b[39m \u001b[38;5;28;01mif\u001b[39;00m differential_cls:\n\u001b[32m   1390\u001b[39m     \u001b[38;5;66;03m# the original differential\u001b[39;00m\n",
      "\u001b[36mFile \u001b[39m\u001b[32mc:\\Users\\srugi\\Documents\\sdo-clv-pipeline\\.venv\\Lib\\site-packages\\astropy\\units\\quantity.py:935\u001b[39m, in \u001b[36mQuantity.to\u001b[39m\u001b[34m(self, unit, equivalencies, copy)\u001b[39m\n\u001b[32m    932\u001b[39m \u001b[38;5;28;01melse\u001b[39;00m:\n\u001b[32m    933\u001b[39m     \u001b[38;5;66;03m# to_value only copies if necessary\u001b[39;00m\n\u001b[32m    934\u001b[39m     value = \u001b[38;5;28mself\u001b[39m.to_value(unit, equivalencies)\n\u001b[32m--> \u001b[39m\u001b[32m935\u001b[39m \u001b[38;5;28;01mreturn\u001b[39;00m \u001b[38;5;28;43mself\u001b[39;49m\u001b[43m.\u001b[49m\u001b[43m_new_view\u001b[49m\u001b[43m(\u001b[49m\u001b[43mvalue\u001b[49m\u001b[43m,\u001b[49m\u001b[43m \u001b[49m\u001b[43munit\u001b[49m\u001b[43m)\u001b[49m\n",
      "\u001b[36mFile \u001b[39m\u001b[32mc:\\Users\\srugi\\Documents\\sdo-clv-pipeline\\.venv\\Lib\\site-packages\\astropy\\units\\quantity.py:756\u001b[39m, in \u001b[36mQuantity._new_view\u001b[39m\u001b[34m(self, obj, unit, propagate_info)\u001b[39m\n\u001b[32m    739\u001b[39m \u001b[38;5;250m    \u001b[39m\u001b[33;03m\"\"\"\u001b[39;00m\n\u001b[32m    740\u001b[39m \u001b[33;03m    Overridden by subclasses to change what kind of view is\u001b[39;00m\n\u001b[32m    741\u001b[39m \u001b[33;03m    created based on the output unit of an operation.\u001b[39;00m\n\u001b[32m   (...)\u001b[39m\u001b[32m    752\u001b[39m \u001b[33;03m        - bool: True if subclasses of the given class are ok\u001b[39;00m\n\u001b[32m    753\u001b[39m \u001b[33;03m    \"\"\"\u001b[39;00m\n\u001b[32m    754\u001b[39m     \u001b[38;5;28;01mreturn\u001b[39;00m Quantity, \u001b[38;5;28;01mTrue\u001b[39;00m\n\u001b[32m--> \u001b[39m\u001b[32m756\u001b[39m \u001b[38;5;28;01mdef\u001b[39;00m\u001b[38;5;250m \u001b[39m\u001b[34m_new_view\u001b[39m(\u001b[38;5;28mself\u001b[39m, obj=\u001b[38;5;28;01mNone\u001b[39;00m, unit=\u001b[38;5;28;01mNone\u001b[39;00m, propagate_info=\u001b[38;5;28;01mTrue\u001b[39;00m):\n\u001b[32m    757\u001b[39m \u001b[38;5;250m    \u001b[39m\u001b[33;03m\"\"\"Create a Quantity view of some array-like input, and set the unit.\u001b[39;00m\n\u001b[32m    758\u001b[39m \n\u001b[32m    759\u001b[39m \u001b[33;03m    By default, return a view of ``obj`` of the same class as ``self`` and\u001b[39;00m\n\u001b[32m   (...)\u001b[39m\u001b[32m    787\u001b[39m \n\u001b[32m    788\u001b[39m \u001b[33;03m    \"\"\"\u001b[39;00m\n\u001b[32m    789\u001b[39m     \u001b[38;5;66;03m# Determine the unit and quantity subclass that we need for the view.\u001b[39;00m\n",
      "\u001b[31mKeyboardInterrupt\u001b[39m: "
     ]
    }
   ],
   "source": [
    "for i in range (0, len(con_files)+1):\n",
    "    # define the paths where files live\n",
    "    con_file = os.path.join(data_dir, con_files[i])\n",
    "    mag_file = os.path.join(data_dir, mag_files[i])\n",
    "    dop_file = os.path.join(data_dir, dop_files[i])\n",
    "    aia_file = os.path.join(data_dir, aia_files[i])\n",
    "\n",
    "    # create the SDOImage object instances\n",
    "    con = SDOImage(con_file)     # continuum, Relative HMI continuum intensity\n",
    "    mag = SDOImage(mag_file)     # magnetogram, magnetic field strength\n",
    "    dop = SDOImage(dop_file)     # Dopplergram, LOS velocity\n",
    "    aia = SDOImage(aia_file)     # AIA 1700 continuum filtergram, Relative 1700 Angstrom Continuum Intensity\n",
    "\n",
    "    # do the coordinate transforms, etc.\n",
    "    dop.calc_geometry()\n",
    "    con.inherit_geometry(dop)\n",
    "    mag.inherit_geometry(dop)\n",
    "\n",
    "    aia.rescale_to_hmi(con) # reporject onto plate scale of HMI images\n",
    "\n",
    "    # calculate the limb darkening correction\n",
    "    con.calc_limb_darkening()\n",
    "    aia.calc_limb_darkening()\n",
    "\n",
    "    # correct magnetogram for foreshortening\n",
    "    mag.correct_magnetogram()\n",
    "\n",
    "    # calculate differential rot., meridional circ., obs. vel, grav. redshift, cbs\n",
    "    dop.correct_dopplergram(fit_cbs=False)\n",
    "\n",
    "    # set values to nan for mu less than mu_thresh\n",
    "    mu_thresh = 0.1\n",
    "    con.mask_low_mu(mu_thresh)\n",
    "    dop.mask_low_mu(mu_thresh)\n",
    "    mag.mask_low_mu(mu_thresh)\n",
    "    aia.mask_low_mu(mu_thresh)\n",
    "\n",
    "    mask = SunMask(con, mag, dop, aia)\n",
    "    mask.mask_low_mu(mu_thresh)\n",
    "\n",
    "    label_moats_on_sun(mask)"
   ]
  }
 ],
 "metadata": {
  "kernelspec": {
   "display_name": "sdo-clv-pipeline",
   "language": "python",
   "name": "python3"
  },
  "language_info": {
   "codemirror_mode": {
    "name": "ipython",
    "version": 3
   },
   "file_extension": ".py",
   "mimetype": "text/x-python",
   "name": "python",
   "nbconvert_exporter": "python",
   "pygments_lexer": "ipython3",
   "version": "3.11.6"
  }
 },
 "nbformat": 4,
 "nbformat_minor": 5
}
