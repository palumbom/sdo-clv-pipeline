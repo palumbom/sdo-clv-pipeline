{
 "cells": [
  {
   "cell_type": "code",
   "execution_count": 10,
   "id": "23b91bd7",
   "metadata": {},
   "outputs": [
    {
     "name": "stdout",
     "output_type": "stream",
     "text": [
      "The autoreload extension is already loaded. To reload it, use:\n",
      "  %reload_ext autoreload\n"
     ]
    }
   ],
   "source": [
    "# automatically reload edited source code\n",
    "%load_ext autoreload\n",
    "%autoreload 2\n",
    "\n",
    "# external package imports\n",
    "import numpy as np\n",
    "import pandas as pd\n",
    "import os, pdb, glob, time, argparse\n",
    "from os.path import exists, split, isdir, getsize\n",
    "from sdo_clv_pipeline.sdo_plot import *\n",
    "\n",
    "# internal package imports\n",
    "from sdo_clv_pipeline.paths import root\n",
    "from sdo_clv_pipeline.sdo_io import *\n",
    "from sdo_clv_pipeline.sdo_process import *\n",
    "from sdo_clv_pipeline.sdo_io import * "
   ]
  },
  {
   "cell_type": "code",
   "execution_count": 11,
   "id": "cb43573c",
   "metadata": {},
   "outputs": [],
   "source": [
    "# returns four sorted lists with the path to each of the file types\n",
    "con_files, mag_files, dop_files, aia_files = find_data(\"/Users/srugins/sdo-clv-pipeline/data\")"
   ]
  },
  {
   "cell_type": "code",
   "execution_count": 12,
   "id": "d46cbe05",
   "metadata": {},
   "outputs": [
    {
     "ename": "IndexError",
     "evalue": "list index out of range",
     "output_type": "error",
     "traceback": [
      "\u001b[31m---------------------------------------------------------------------------\u001b[39m",
      "\u001b[31mIndexError\u001b[39m                                Traceback (most recent call last)",
      "\u001b[36mCell\u001b[39m\u001b[36m \u001b[39m\u001b[32mIn[12]\u001b[39m\u001b[32m, line 4\u001b[39m\n\u001b[32m      1\u001b[39m \u001b[38;5;28;01mfor\u001b[39;00m i \u001b[38;5;129;01min\u001b[39;00m \u001b[38;5;28mrange\u001b[39m (\u001b[32m0\u001b[39m, \u001b[38;5;28mlen\u001b[39m(con_files)+\u001b[32m1\u001b[39m):\n\u001b[32m      2\u001b[39m     \u001b[38;5;66;03m# define the paths where files live\u001b[39;00m\n\u001b[32m      3\u001b[39m     data_dir = os.path.abspath(os.path.join(os.getcwd(), \u001b[33m\"\u001b[39m\u001b[33m..\u001b[39m\u001b[33m\"\u001b[39m, \u001b[33m\"\u001b[39m\u001b[33mdata\u001b[39m\u001b[33m\"\u001b[39m))\n\u001b[32m----> \u001b[39m\u001b[32m4\u001b[39m     con_file = os.path.join(data_dir, \u001b[43mcon_files\u001b[49m\u001b[43m[\u001b[49m\u001b[43mi\u001b[49m\u001b[43m]\u001b[49m)\n\u001b[32m      5\u001b[39m     mag_file = os.path.join(data_dir, mag_files[i])\n\u001b[32m      6\u001b[39m     dop_file = os.path.join(data_dir, dop_files[i])\n",
      "\u001b[31mIndexError\u001b[39m: list index out of range"
     ]
    }
   ],
   "source": [
    "for i in range (0, len(con_files)+1):\n",
    "    # define the paths where files live\n",
    "    data_dir = os.path.abspath(os.path.join(os.getcwd(), \"..\", \"data\"))\n",
    "    con_file = os.path.join(data_dir, con_files[i])\n",
    "    mag_file = os.path.join(data_dir, mag_files[i])\n",
    "    dop_file = os.path.join(data_dir, dop_files[i])\n",
    "    aia_file = os.path.join(data_dir, aia_files[i])\n",
    "    print(data_dir)\n",
    "\n",
    "    # create the SDOImage object instances\n",
    "    con = SDOImage(con_file)     # continuum, Relative HMI continuum intensity\n",
    "    mag = SDOImage(mag_file)     # magnetogram, magnetic field strength\n",
    "    dop = SDOImage(dop_file)     # Dopplergram, LOS velocity\n",
    "    aia = SDOImage(aia_file)     # AIA 1700 continuum filtergram, Relative 1700 Angstrom Continuum Intensity\n",
    "\n",
    "    # do the coordinate transforms, etc.\n",
    "    dop.calc_geometry()\n",
    "    con.inherit_geometry(dop)\n",
    "    mag.inherit_geometry(dop)\n",
    "\n",
    "    aia.rescale_to_hmi(con) # reporject onto plate scale of HMI images\n",
    "\n",
    "    # calculate the limb darkening correction\n",
    "    con.calc_limb_darkening()\n",
    "    aia.calc_limb_darkening()\n",
    "\n",
    "    # correct magnetogram for foreshortening\n",
    "    mag.correct_magnetogram()\n",
    "\n",
    "    # calculate differential rot., meridional circ., obs. vel, grav. redshift, cbs\n",
    "    dop.correct_dopplergram(fit_cbs=False)\n",
    "\n",
    "    # set values to nan for mu less than mu_thresh\n",
    "    mu_thresh = 0.1\n",
    "    con.mask_low_mu(mu_thresh)\n",
    "    dop.mask_low_mu(mu_thresh)\n",
    "    mag.mask_low_mu(mu_thresh)\n",
    "    aia.mask_low_mu(mu_thresh)\n",
    "\n",
    "    mask = SunMask(con, mag, dop, aia)\n",
    "    mask.mask_low_mu(mu_thresh)\n",
    "\n",
    "    label_moats_on_sun(mask)"
   ]
  }
 ],
 "metadata": {
  "kernelspec": {
   "display_name": ".venv",
   "language": "python",
   "name": "python3"
  },
  "language_info": {
   "codemirror_mode": {
    "name": "ipython",
    "version": 3
   },
   "file_extension": ".py",
   "mimetype": "text/x-python",
   "name": "python",
   "nbconvert_exporter": "python",
   "pygments_lexer": "ipython3",
   "version": "3.11.6"
  }
 },
 "nbformat": 4,
 "nbformat_minor": 5
}
